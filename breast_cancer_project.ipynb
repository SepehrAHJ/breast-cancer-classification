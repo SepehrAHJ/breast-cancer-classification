{
 "cells": [
  {
   "metadata": {},
   "cell_type": "markdown",
   "source": [
    "# Breast Cancer Project using PyTorch\n",
    "\n",
    "In this project, we aim to classify breast cancer tumors as malignant or benign using the Breast Cancer dataset. \n",
    "We will use PyTorch to build and train a machine learning model.  \n",
    "The main steps in this project are:\n",
    "1. Load and preprocess the dataset.\n",
    "2. Convert the data into PyTorch tensors.\n",
    "3. Build and train a neural network using PyTorch.\n",
    "4. Evaluate the model's performance.\n",
    "\n",
    "Let's begin with loading the dataset and preparing it for PyTorch.\n"
   ],
   "id": "9350c88c46b29491"
  },
  {
   "metadata": {
    "ExecuteTime": {
     "end_time": "2024-12-24T03:32:02.549153Z",
     "start_time": "2024-12-24T03:32:02.543192Z"
    }
   },
   "cell_type": "code",
   "source": [
    "import matplotlib.pyplot as plt\n",
    "import numpy as np\n",
    "import pandas as pd\n",
    "\n",
    "import torch\n",
    "import torch.nn as nn\n",
    "import torch.optim as optim\n",
    "from torch.utils.data import DataLoader, TensorDataset\n",
    "\n",
    "from sklearn.datasets import load_breast_cancer\n",
    "from sklearn.model_selection import train_test_split\n",
    "from sklearn.preprocessing import StandardScaler\n",
    "from sklearn.metrics import accuracy_score, precision_score, recall_score, f1_score\n",
    "from sklearn.metrics import confusion_matrix, ConfusionMatrixDisplay\n",
    "\n"
   ],
   "id": "45ea4fa6bc3d500b",
   "outputs": [],
   "execution_count": 34
  },
  {
   "metadata": {},
   "cell_type": "markdown",
   "source": [
    "## Step 1: Load the Dataset\n",
    "\n",
    "We will use the Breast Cancer dataset from the `sklearn` library. \n",
    "The dataset contains features related to breast cancer cells, and the goal is to classify whether the tumor is malignant or benign.\n"
   ],
   "id": "72fa69aba5f1e98a"
  },
  {
   "metadata": {
    "ExecuteTime": {
     "end_time": "2024-12-24T03:32:02.595883Z",
     "start_time": "2024-12-24T03:32:02.575686Z"
    }
   },
   "cell_type": "code",
   "source": [
    "# load the dataset\n",
    "data = load_breast_cancer()\n",
    "X = data.data\n",
    "y = data.target\n",
    "\n",
    "# Split the dataset into Train (80%) and Test (20%)\n",
    "X_train, X_test, y_train, y_test = train_test_split(X, y, test_size=0.2, random_state=42)\n",
    "\n",
    "# Further split Train into Training (80%) and Validation (20% of Train)\n",
    "X_train, X_val, y_train, y_val = train_test_split(X_train, y_train, test_size=0.2, random_state=42)\n",
    "\n"
   ],
   "id": "c64797cb1be28746",
   "outputs": [],
   "execution_count": 35
  },
  {
   "metadata": {},
   "cell_type": "markdown",
   "source": [
    "## Step 2: Data Preprocessing\n",
    "\n",
    "In this step, we will:\n",
    "1. Standardize the features to have mean 0 and standard deviation 1, which helps improve the model's performance.\n",
    "2. Convert the data into PyTorch tensors, so it can be used for training a neural network.\n",
    "\n",
    "Let's start by standardizing the features and converting the data into tensors.\n"
   ],
   "id": "38dcfe09d8a6a714"
  },
  {
   "metadata": {},
   "cell_type": "markdown",
   "source": [
    "### Standardizing the Features\n",
    "\n",
    "We will use `StandardScaler` to standardize the features. This step ensures that each feature has a mean of 0 and a standard deviation of 1.\n"
   ],
   "id": "83539006f0e7fe8f"
  },
  {
   "metadata": {
    "ExecuteTime": {
     "end_time": "2024-12-24T03:32:02.605270Z",
     "start_time": "2024-12-24T03:32:02.595883Z"
    }
   },
   "cell_type": "code",
   "source": [
    "scaler = StandardScaler()\n",
    "X_train = scaler.fit_transform(X_train)\n",
    "X_val = scaler.transform(X_val)\n",
    "X_test = scaler.transform(X_test)"
   ],
   "id": "6b22dee0f47f75f5",
   "outputs": [],
   "execution_count": 36
  },
  {
   "metadata": {},
   "cell_type": "markdown",
   "source": [
    "### Converting the Data to PyTorch Tensors\n",
    "\n",
    "To use the data with PyTorch, we need to convert the features (`X_train`, `X_val`, `X_test`) and the labels (`y_train`, `y_val`, `y_test`) into PyTorch tensors.\n"
   ],
   "id": "7f2ab44814fcb5d8"
  },
  {
   "metadata": {
    "ExecuteTime": {
     "end_time": "2024-12-24T03:32:02.613553Z",
     "start_time": "2024-12-24T03:32:02.607293Z"
    }
   },
   "cell_type": "code",
   "source": [
    "# Convert the data to PyTorch tensors\n",
    "X_train_tensor = torch.tensor(X_train, dtype=torch.float32)\n",
    "X_val_tensor = torch.tensor(X_val, dtype=torch.float32)\n",
    "X_test_tensor = torch.tensor(X_test, dtype=torch.float32)\n",
    "\n",
    "# Convert target labels to torch.long because classification tasks require integer labels for \n",
    "# loss functions like CrossEntropyLoss, which expects class labels as integers (not float).\n",
    "# Features are kept as torch.float32 for numerical operations in the model.\n",
    "y_train_tensor = torch.tensor(y_train, dtype=torch.long)\n",
    "y_val_tensor = torch.tensor(y_val, dtype=torch.long)\n",
    "y_test_tensor = torch.tensor(y_test, dtype=torch.long)"
   ],
   "id": "10c8d84ce0cbc208",
   "outputs": [],
   "execution_count": 37
  },
  {
   "metadata": {
    "ExecuteTime": {
     "end_time": "2024-12-24T03:32:02.620049Z",
     "start_time": "2024-12-24T03:32:02.615561Z"
    }
   },
   "cell_type": "code",
   "source": [
    "print(\"Training data shape:\", X_train_tensor.shape)\n",
    "print(\"Validation data shape:\", X_val_tensor.shape)\n",
    "print(\"Test data shape:\", X_test_tensor.shape)\n"
   ],
   "id": "f96cd9322afe0b44",
   "outputs": [
    {
     "name": "stdout",
     "output_type": "stream",
     "text": [
      "Training data shape: torch.Size([364, 30])\n",
      "Validation data shape: torch.Size([91, 30])\n",
      "Test data shape: torch.Size([114, 30])\n"
     ]
    }
   ],
   "execution_count": 38
  },
  {
   "metadata": {},
   "cell_type": "markdown",
   "source": [
    "## Step 3: Build the Neural Network Model\n",
    "\n",
    "In this step, we will create a simple neural network model using PyTorch. The model will consist of:\n",
    "- An input layer with 30 units (corresponding to the number of features in the dataset).\n",
    "- A hidden layer with 64 units.\n",
    "- An output layer with a single unit (for binary classification).\n",
    "\n",
    "We will use the **ReLU** activation function for the hidden layer and a **sigmoid** activation function for the output layer, as it's a binary classification problem.\n"
   ],
   "id": "8eb19b1c52adc79f"
  },
  {
   "metadata": {
    "ExecuteTime": {
     "end_time": "2024-12-24T03:32:02.629751Z",
     "start_time": "2024-12-24T03:32:02.622061Z"
    }
   },
   "cell_type": "code",
   "source": [
    "class BreastCancerModel(nn.Module):\n",
    "    def __init__(self):\n",
    "        super(BreastCancerModel, self).__init__()\n",
    "        # Define the layers of the neural network\n",
    "        self.input_layer = nn.Linear(30,64) # 30 input features, 64 neurons in the hidden layer\n",
    "        self.hidden_layer = nn.ReLU() # ReLU activation function for the hidden layer\n",
    "        self.output_layer = nn.Linear(64, 1) # Output layer with 1 unit for binary classification\n",
    "        self.sigmoid = nn.Sigmoid()  # Sigmoid activation for binary classification\n",
    "        \n",
    "    def forward(self, x):\n",
    "        # pass input through the network\n",
    "        x = self.input_layer(x)\n",
    "        x = self.hidden_layer(x)\n",
    "        x = self.output_layer(x)\n",
    "        x = self.sigmoid(x)\n",
    "        return x\n",
    "\n",
    "# Instantiate the model\n",
    "model = BreastCancerModel()\n",
    "\n",
    "# Print the model architecture\n",
    "print(model)\n",
    "\n"
   ],
   "id": "46e802cd79520446",
   "outputs": [
    {
     "name": "stdout",
     "output_type": "stream",
     "text": [
      "BreastCancerModel(\n",
      "  (input_layer): Linear(in_features=30, out_features=64, bias=True)\n",
      "  (hidden_layer): ReLU()\n",
      "  (output_layer): Linear(in_features=64, out_features=1, bias=True)\n",
      "  (sigmoid): Sigmoid()\n",
      ")\n"
     ]
    }
   ],
   "execution_count": 39
  },
  {
   "metadata": {},
   "cell_type": "markdown",
   "source": [
    "## Step 4: Define Loss Function and Optimizer\n",
    "\n",
    "In this step, we will:\n",
    "1. **Loss Function**: Use **Binary Cross-Entropy Loss** (also known as **BCELoss**) because this is a binary classification problem.\n",
    "2. **Optimizer**: Use **Adam Optimizer**, which is widely used and generally works well for most deep learning models.\n",
    "\n",
    "We will also specify the learning rate for the optimizer. Then, we will proceed to train the model.\n"
   ],
   "id": "fd9f5f746b295096"
  },
  {
   "metadata": {
    "ExecuteTime": {
     "end_time": "2024-12-24T03:32:03.085122Z",
     "start_time": "2024-12-24T03:32:02.631758Z"
    }
   },
   "cell_type": "code",
   "source": [
    "# Define Loss Function and Optimizer\n",
    "criterion = nn.BCELoss()  # Binary Cross-Entropy Loss\n",
    "optimizer = optim.Adam(model.parameters(), lr=0.001)  # Adam optimizer with learning rate of 0.001\n",
    "\n",
    "# Training the model\n",
    "num_epochs = 20  # Number of epochs to train the model\n",
    "batch_size = 32  # Batch size for training\n",
    "\n",
    "# Create DataLoader for training, validation, and test sets\n",
    "train_data = TensorDataset(X_train_tensor, y_train_tensor)\n",
    "train_loader = DataLoader(train_data, batch_size=batch_size, shuffle=True)\n",
    "\n",
    "val_data = TensorDataset(X_val_tensor, y_val_tensor)\n",
    "val_loader = DataLoader(val_data, batch_size=batch_size, shuffle=False)\n",
    "\n",
    "# Initialize lists to store the loss values\n",
    "train_losses = []\n",
    "val_losses = []\n",
    "\n",
    "# Training loop\n",
    "for epoch in range(num_epochs):\n",
    "    model.train()  # Set model to training mode\n",
    "    running_loss = 0.0\n",
    "    correct = 0\n",
    "    total = 0\n",
    "\n",
    "    for inputs, labels in train_loader:\n",
    "        # Zero the parameter gradients\n",
    "        optimizer.zero_grad()\n",
    "\n",
    "        # Forward pass\n",
    "        outputs = model(inputs)\n",
    "        \n",
    "        # Compute the loss\n",
    "        loss = criterion(outputs.squeeze(), labels.float())  # Squeeze outputs to match labels shape\n",
    "        \n",
    "        # Backward pass\n",
    "        loss.backward()\n",
    "\n",
    "        # Optimize the model\n",
    "        optimizer.step()\n",
    "\n",
    "        # Track the loss and accuracy\n",
    "        running_loss += loss.item()\n",
    "        predicted = (outputs.squeeze() > 0.5).float()  # Convert output probabilities to class labels\n",
    "        correct += (predicted == labels).sum().item()\n",
    "        total += labels.size(0)\n",
    "\n",
    "    # Track training loss and accuracy\n",
    "    train_losses.append(running_loss / len(train_loader))\n",
    "    epoch_accuracy = correct / total\n",
    "\n",
    "    # Validation step (optional)\n",
    "    model.eval()  # Set model to evaluation mode\n",
    "    val_loss = 0.0\n",
    "    correct_val = 0\n",
    "    total_val = 0\n",
    "\n",
    "    with torch.no_grad():  # No gradient calculation during validation\n",
    "        for inputs, labels in val_loader:\n",
    "            outputs = model(inputs)\n",
    "            loss = criterion(outputs.squeeze(), labels.float())\n",
    "            val_loss += loss.item()\n",
    "            predicted = (outputs.squeeze() > 0.5).float()\n",
    "            correct_val += (predicted == labels).sum().item()\n",
    "            total_val += labels.size(0)\n",
    "\n",
    "    val_losses.append(val_loss / len(val_loader))\n",
    "    val_accuracy = correct_val / total_val\n",
    "        # Print the epoch loss and accuracy\n",
    "    print(f\"Epoch [{epoch+1}/{num_epochs}], Loss: {running_loss / len(train_loader):.4f}, Accuracy: {epoch_accuracy*100:.2f}%\")\n",
    "    print(f\"Validation Loss: {val_loss / len(val_loader):.4f}, Validation Accuracy: {val_accuracy*100:.2f}%\")\n",
    "\n",
    "# Plotting Loss curve for Training and Validation\n",
    "plt.figure(figsize=(10,5))\n",
    "plt.plot(train_losses, label='Training Loss')\n",
    "plt.plot(val_losses, label='Validation Loss')\n",
    "plt.xlabel('Epochs')\n",
    "plt.ylabel('Loss')\n",
    "plt.title('Training and Validation Loss')\n",
    "plt.legend()\n",
    "plt.show()"
   ],
   "id": "75392881c9dd05d8",
   "outputs": [
    {
     "name": "stdout",
     "output_type": "stream",
     "text": [
      "Epoch [1/20], Loss: 0.6393, Accuracy: 73.35%\n",
      "Validation Loss: 0.5569, Validation Accuracy: 85.71%\n",
      "Epoch [2/20], Loss: 0.4782, Accuracy: 90.11%\n",
      "Validation Loss: 0.4403, Validation Accuracy: 91.21%\n",
      "Epoch [3/20], Loss: 0.3708, Accuracy: 93.13%\n",
      "Validation Loss: 0.3562, Validation Accuracy: 91.21%\n",
      "Epoch [4/20], Loss: 0.2947, Accuracy: 92.86%\n",
      "Validation Loss: 0.2981, Validation Accuracy: 91.21%\n",
      "Epoch [5/20], Loss: 0.2471, Accuracy: 93.41%\n",
      "Validation Loss: 0.2579, Validation Accuracy: 92.31%\n",
      "Epoch [6/20], Loss: 0.1981, Accuracy: 93.96%\n",
      "Validation Loss: 0.2293, Validation Accuracy: 94.51%\n",
      "Epoch [7/20], Loss: 0.1701, Accuracy: 94.51%\n",
      "Validation Loss: 0.2087, Validation Accuracy: 94.51%\n",
      "Epoch [8/20], Loss: 0.1468, Accuracy: 95.60%\n",
      "Validation Loss: 0.1926, Validation Accuracy: 94.51%\n",
      "Epoch [9/20], Loss: 0.1316, Accuracy: 96.43%\n",
      "Validation Loss: 0.1816, Validation Accuracy: 94.51%\n",
      "Epoch [10/20], Loss: 0.1180, Accuracy: 96.70%\n",
      "Validation Loss: 0.1734, Validation Accuracy: 94.51%\n",
      "Epoch [11/20], Loss: 0.1098, Accuracy: 96.98%\n",
      "Validation Loss: 0.1675, Validation Accuracy: 94.51%\n",
      "Epoch [12/20], Loss: 0.1072, Accuracy: 97.25%\n",
      "Validation Loss: 0.1624, Validation Accuracy: 94.51%\n",
      "Epoch [13/20], Loss: 0.0940, Accuracy: 97.80%\n",
      "Validation Loss: 0.1578, Validation Accuracy: 95.60%\n",
      "Epoch [14/20], Loss: 0.0850, Accuracy: 98.08%\n",
      "Validation Loss: 0.1537, Validation Accuracy: 95.60%\n",
      "Epoch [15/20], Loss: 0.0852, Accuracy: 98.08%\n",
      "Validation Loss: 0.1516, Validation Accuracy: 96.70%\n",
      "Epoch [16/20], Loss: 0.0774, Accuracy: 98.35%\n",
      "Validation Loss: 0.1509, Validation Accuracy: 96.70%\n",
      "Epoch [17/20], Loss: 0.0740, Accuracy: 98.35%\n",
      "Validation Loss: 0.1497, Validation Accuracy: 96.70%\n",
      "Epoch [18/20], Loss: 0.0691, Accuracy: 98.90%\n",
      "Validation Loss: 0.1486, Validation Accuracy: 96.70%\n",
      "Epoch [19/20], Loss: 0.0679, Accuracy: 98.90%\n",
      "Validation Loss: 0.1475, Validation Accuracy: 96.70%\n",
      "Epoch [20/20], Loss: 0.0645, Accuracy: 98.90%\n",
      "Validation Loss: 0.1467, Validation Accuracy: 96.70%\n"
     ]
    },
    {
     "data": {
      "text/plain": [
       "<Figure size 1000x500 with 1 Axes>"
      ],
      "image/png": "[encoded data removed]"
     },
     "metadata": {},
     "output_type": "display_data"
    }
   ],
   "execution_count": 40
  },
  {
   "metadata": {},
   "cell_type": "markdown",
   "source": [
    "## Step 5.2: Confusion Matrix for Test Data\n",
    "\n",
    "After training the model, we will evaluate it on the test set and plot the **Confusion Matrix**. The confusion matrix allows us to see how many predictions were correct and how many were misclassified for each class.\n"
   ],
   "id": "4796c090b4c4ba63"
  },
  {
   "metadata": {
    "ExecuteTime": {
     "end_time": "2024-12-24T03:34:05.581900Z",
     "start_time": "2024-12-24T03:34:05.427788Z"
    }
   },
   "cell_type": "code",
   "source": [
    "# Evaluate on the test set\n",
    "model.eval()\n",
    "test_data = TensorDataset(X_test_tensor, y_test_tensor)\n",
    "test_loader = DataLoader(test_data, batch_size=batch_size, shuffle=False)\n",
    "\n",
    "test_loss = 0.0\n",
    "correct_test = 0\n",
    "total_test = 0\n",
    "all_preds = []  # List to store all predictions\n",
    "all_labels = []  # List to store all true labels\n",
    "\n",
    "with torch.no_grad():\n",
    "    for inputs, labels in test_loader:\n",
    "        outputs = model(inputs)\n",
    "        loss = criterion(outputs.squeeze(), labels.float())\n",
    "        test_loss += loss.item()\n",
    "        \n",
    "        # Collect predictions and true labels for the confusion matrix\n",
    "        predicted = (outputs.squeeze() > 0.5).float()\n",
    "        all_preds.append(predicted)\n",
    "        all_labels.append(labels)\n",
    "\n",
    "# Flatten the list of predictions and labels\n",
    "all_preds = torch.cat(all_preds).numpy()\n",
    "all_labels = torch.cat(all_labels).numpy()\n",
    "\n",
    "# Calculate the accuracy\n",
    "test_accuracy = (all_preds == all_labels).sum() / len(all_labels)\n",
    "print(f\"Test Loss: {test_loss / len(test_loader):.4f}, Test Accuracy: {test_accuracy*100:.2f}%\")\n",
    "\n",
    "# Confusion Matrix\n",
    "cm = confusion_matrix(all_labels, all_preds)\n",
    "disp = ConfusionMatrixDisplay(confusion_matrix=cm, display_labels=data.target_names)\n",
    "disp.plot(cmap=plt.cm.Blues)\n",
    "plt.title('Confusion Matrix')\n",
    "plt.show()\n"
   ],
   "id": "82484b63a304f7a0",
   "outputs": [
    {
     "name": "stdout",
     "output_type": "stream",
     "text": [
      "Test Loss: 0.0690, Test Accuracy: 96.49%\n"
     ]
    },
    {
     "data": {
      "text/plain": [
       "<Figure size 640x480 with 2 Axes>"
      ],
      "image/png": "[encoded data removed]"
     },
     "metadata": {},
     "output_type": "display_data"
    }
   ],
   "execution_count": 42
  }
 ],
 "metadata": {
  "kernelspec": {
   "display_name": "Python 3",
   "language": "python",
   "name": "python3"
  },
  "language_info": {
   "codemirror_mode": {
    "name": "ipython",
    "version": 2
   },
   "file_extension": ".py",
   "mimetype": "text/x-python",
   "name": "python",
   "nbconvert_exporter": "python",
   "pygments_lexer": "ipython2",
   "version": "2.7.6"
  }
 },
 "nbformat": 4,
 "nbformat_minor": 5
}
